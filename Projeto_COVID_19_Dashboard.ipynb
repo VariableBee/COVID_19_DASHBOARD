{
  "metadata": {
    "colab": {
      "provenance": []
    },
    "kernelspec": {
      "name": "python3",
      "display_name": "Python 3",
      "language": "python"
    },
    "language_info": {
      "name": "python",
      "version": "3.10.12",
      "mimetype": "text/x-python",
      "codemirror_mode": {
        "name": "ipython",
        "version": 3
      },
      "pygments_lexer": "ipython3",
      "nbconvert_exporter": "python",
      "file_extension": ".py"
    }
  },
  "nbformat_minor": 0,
  "nbformat": 4,
  "cells": [
    {
      "cell_type": "markdown",
      "source": [
        "# **Análise de Dados: COVID-19 Dashboard**"
      ],
      "metadata": {
        "id": "QRcqbpLpFK5o"
      }
    },
    {
      "cell_type": "markdown",
      "source": [
        "Caderno de **Portfolio**<br>\n",
        "[Christian Oliveira](https://www.linkedin.com/in/christian-oliveira-925532257/) - [Github](https://github.com/VariableBee)\n",
        "\n",
        "---"
      ],
      "metadata": {
        "id": "aafOWouf7TE0"
      }
    },
    {
      "cell_type": "markdown",
      "source": [
        "## **Tópicos**\n",
        "\n",
        "<ol type=\"1\">\n",
        "  <li>Introdução;</li>\n",
        "  <li>Análise Exploratória de Dados;</li>\n",
        "  <li>Visualização Interativa de Dados;</li>\n",
        "</ol>"
      ],
      "metadata": {
        "id": "vxYju-9F53up"
      }
    },
    {
      "cell_type": "markdown",
      "source": [
        "## **1\\. Introdução**"
      ],
      "metadata": {
        "id": "6-CvdKwqFPiW"
      }
    },
    {
      "cell_type": "markdown",
      "source": [
        "- **Dashboard**:\n",
        "  - Google Data Studio [Covid Dashboard](https://lookerstudio.google.com/reporting/6faa99af-b8ce-4d03-aa84-d4cb6029f21f).\n",
        "\n",
        "- **Etapas**:\n",
        "\n",
        "  - Exploração;\n",
        "  - Manipulação;\n",
        "  - Visualização;\n",
        "  - Storytelling.\n",
        "\n",
        "- **Fontes**:\n",
        "  - John Hopkins University ([link](https://github.com/CSSEGISandData/COVID-19/tree/master/csse_covid_19_data/csse_covid_19_daily_reports));\n",
        "  - Oxford University ([link](https://covid.ourworldindata.org/data/owid-covid-data.csv))."
      ],
      "metadata": {
        "id": "3YHDP9bt5qZR"
      }
    },
    {
      "cell_type": "markdown",
      "source": [
        "### **Motivação/Objetivo**"
      ],
      "metadata": {
        "id": "PcJs-6zj4ebx"
      }
    },
    {
      "cell_type": "markdown",
      "source": [
        "> A COVID-19 é uma infecção respiratória aguda causada pelo coronavírus SARS-CoV-2, potencialmente grave, de elevada transmissibilidade e de distribuição global. Fonte: Governo brasileiro ([link](https://www.gov.br/saude/pt-br/coronavirus/o-que-e-o-coronavirus)).\n",
        ">\n",
        "> A criação desse dashboard tem como objetivo auxiliar na tomada de decisões por parte da gestão pública em relação à Pandemia do COVID19. Qualquer tomada de decisão para combatar a pandemia deve ser orientada a dados. É preciso acompanhar de perto a evolução histórica do número de infectados e/ou mortos e da evolução das campanhas de vacina.\n",
        ">\n",
        "> A disponibilidade de dados sobre a evolução da pandemia no tempo em uma determinada região geográfica é fundamental para o seu combate! Este projeto busca construir um dashboard de dados para exploração e visualização interativa de dados sobre o avanço de casos e da vacinação do Brasil. O processamento de dados está neste `link` e o dashboard, neste [link](https://lookerstudio.google.com/reporting/6faa99af-b8ce-4d03-aa84-d4cb6029f21f)."
      ],
      "metadata": {
        "id": "qDTi-dSoqpYV"
      }
    },
    {
      "cell_type": "markdown",
      "source": [
        "### **Dados**"
      ],
      "metadata": {
        "id": "qbv3oJue7DEe"
      }
    },
    {
      "cell_type": "markdown",
      "source": [
        "Os dados sobre **casos da COVID-19** são compilados pelo centro de ciência de sistemas e engenharia da universidade americana **John Hopkins** ([link](https://www.jhu.edu)). Os dados são atualizados diariamente deste janeiro de 2020 com uma granularidade temporal de dias e geográfica de regiões de países (estados, condados, etc.). O website do projeto pode ser acessado neste [link](https://systems.jhu.edu/research/public-health/ncov/) enquanto os dados, neste [link](https://github.com/CSSEGISandData/COVID-19/tree/master/csse_covid_19_data/csse_covid_19_daily_reports). Abaixo estão descritos os dados derivados do seu processamento."
      ],
      "metadata": {
        "id": "RsilCRrg7wal"
      }
    },
    {
      "cell_type": "markdown",
      "source": [
        " - **date**: data de referência;\n",
        " - **state**: estado;\n",
        " - **country**: país;\n",
        " - **population**: população estimada;\n",
        " - **confirmed**: número acumulado de infectados;\n",
        " - **confirmed_1d**: número diário de infectados;\n",
        " - **confirmed_moving_avg_7d**: média móvel de 7 dias do número diário de infectados;\n",
        " - **confirmed_moving_avg_7d_rate_14d**: média móvel de 7 dias dividido pela média móvel de 7 dias de 14 dias atrás;\n",
        " - **deaths**: número acumulado de mortos;\n",
        " - **deaths_1d**: número diário de mortos;\n",
        " - **deaths_moving_avg_7d**: média móvel de 7 dias do número diário de mortos;\n",
        " - **deaths_moving_avg_7d**: média móvel de 7 dias dividido pela média móvel de 7 dias de 14 dias atrás;\n",
        " - **month**: mês de referência;\n",
        " - **year**: ano de referência."
      ],
      "metadata": {
        "id": "fOlzBgZ98JUe"
      }
    },
    {
      "cell_type": "markdown",
      "source": [
        "Os dados sobre **vacinação da COVID-19** são compilados pelo projeto Nosso Mundo em Dados (*Our World in Data* ou OWID) da universidade britânica de **Oxford** ([link](https://www.ox.ac.uk)). Os dados são **atualizados diariamente** deste janeiro de 2020 com uma **granularidade temporal de dias e geográfica de países**. O website do projeto pode ser acessado neste [link](https://ourworldindata.org) enquanto os dados, neste [link](https://covid.ourworldindata.org/data/owid-covid-data.csv). Abaixo estão descritos os dados derivados do seu processamento."
      ],
      "metadata": {
        "id": "mhX2KPOP8P7j"
      }
    },
    {
      "cell_type": "markdown",
      "source": [
        " - **date**: data de referência;\n",
        " - **country**: país;\n",
        " - **population**: população estimada;\n",
        " - **total**: número acumulado de doses administradas;\n",
        " - **one_shot**: número acumulado de pessoas com uma dose;\n",
        " - **one_shot_perc**: número acumulado relativo de pessoas com uma dose;\n",
        " - **two_shots**: número acumulado de pessoas com duas doses;\n",
        " - **two_shot_perc**: número acumulado relativo de pessoas com duas doses;\n",
        " - **three_shots**: número acumulado de pessoas com três doses;\n",
        " - **three_shot_perc**: número acumulado relativo de pessoas com três doses;\n",
        " - **month**: mês de referência;\n",
        " - **year**: ano de referência."
      ],
      "metadata": {
        "id": "I9ED75PH8Sas"
      }
    },
    {
      "cell_type": "markdown",
      "source": [
        "## **2\\. Análise Exploratória de Dados**"
      ],
      "metadata": {
        "id": "QxukLHaqFnkU"
      }
    },
    {
      "cell_type": "markdown",
      "source": [
        "Vamos processar os dados de casos da universidade John Hopkins. Abaixo estão as bibliotecas e pacotes Python para processar os dados bruto em um formato adequado para um painel onde será possível fazer a exploração interativa de dados. Toda a etapa de processamento foi feita através do Google Colab."
      ],
      "metadata": {
        "id": "sre5UjY28bOf"
      }
    },
    {
      "cell_type": "code",
      "source": [
        "import math\n",
        "from typing import Iterator\n",
        "from datetime import datetime, timedelta\n",
        "\n",
        "import numpy as np\n",
        "import pandas as pd"
      ],
      "metadata": {
        "id": "VXUEW0VrF7XW",
        "execution": {
          "iopub.status.busy": "2023-09-27T16:48:44.336716Z",
          "iopub.execute_input": "2023-09-27T16:48:44.337116Z",
          "iopub.status.idle": "2023-09-27T16:48:44.715538Z",
          "shell.execute_reply.started": "2023-09-27T16:48:44.337082Z",
          "shell.execute_reply": "2023-09-27T16:48:44.714404Z"
        },
        "trusted": true
      },
      "execution_count": null,
      "outputs": []
    },
    {
      "cell_type": "markdown",
      "source": [
        "### **Extração**"
      ],
      "metadata": {
        "id": "irQxHW1zGkdZ"
      }
    },
    {
      "cell_type": "code",
      "source": [
        "# Download Data-Set\n",
        "#!wget https://raw.githubusercontent.com/CSSEGISandData/COVID-19/master/csse_covid_19_data/csse_covid_19_daily_reports/01-12-2021.csv\n",
        "\n",
        "# Ler CSV pela URL\n",
        "# cases = pd.read_csv('https://raw.githubusercontent.com/CSSEGISandData/COVID-19/master/csse_covid_19_data/csse_covid_19_daily_reports/01-12-2021.csv', sep=',')\n",
        "\n",
        "# Fiz o upload do Data-set usado neste trabalho para o Kaggle.\n",
        "cases = pd.read_csv('/kaggle/input/casos-pela-universidade-john-hopkins/cases.csv', sep=',')"
      ],
      "metadata": {
        "id": "lxLj8e0GHAnr",
        "execution": {
          "iopub.status.busy": "2023-09-27T16:50:07.938019Z",
          "iopub.execute_input": "2023-09-27T16:50:07.938393Z",
          "iopub.status.idle": "2023-09-27T16:50:07.973652Z",
          "shell.execute_reply.started": "2023-09-27T16:50:07.938364Z",
          "shell.execute_reply": "2023-09-27T16:50:07.972621Z"
        },
        "trusted": true
      },
      "execution_count": null,
      "outputs": []
    },
    {
      "cell_type": "markdown",
      "source": [
        "O dado está compilado em um arquivo por dia, exemplo para 2021/12/01."
      ],
      "metadata": {
        "id": "Iz302jVdqpYY"
      }
    },
    {
      "cell_type": "code",
      "source": [
        "cases.head()"
      ],
      "metadata": {
        "id": "qN4ObeZlDadi",
        "outputId": "4d9a0e3d-0d02-45a8-9989-07a88c4eec9a",
        "execution": {
          "iopub.status.busy": "2023-09-27T16:50:11.383873Z",
          "iopub.execute_input": "2023-09-27T16:50:11.384266Z",
          "iopub.status.idle": "2023-09-27T16:50:11.412696Z",
          "shell.execute_reply.started": "2023-09-27T16:50:11.384230Z",
          "shell.execute_reply": "2023-09-27T16:50:11.411730Z"
        },
        "trusted": true
      },
      "execution_count": null,
      "outputs": [
        {
          "execution_count": 5,
          "output_type": "execute_result",
          "data": {
            "text/plain": "   FIPS Admin2 Province_State Country_Region          Last_Update       Lat  \\\n0   NaN    NaN            NaN    Afghanistan  2021-01-13 05:22:15  33.93911   \n1   NaN    NaN            NaN        Albania  2021-01-13 05:22:15  41.15330   \n2   NaN    NaN            NaN        Algeria  2021-01-13 05:22:15  28.03390   \n3   NaN    NaN            NaN        Andorra  2021-01-13 05:22:15  42.50630   \n4   NaN    NaN            NaN         Angola  2021-01-13 05:22:15 -11.20270   \n\n       Long_  Confirmed  Deaths  Recovered  Active Combined_Key  \\\n0  67.709953      53584    2301      44608    6675  Afghanistan   \n1  20.168300      64627    1252      38421   24954      Albania   \n2   1.659600     102641    2816      69608   30217      Algeria   \n3   1.521800       8682      86       7930     666      Andorra   \n4  17.873900      18343     422      15512    2409       Angola   \n\n   Incident_Rate  Case_Fatality_Ratio  \n0     137.647787             4.294192  \n1    2245.708527             1.937271  \n2     234.067409             2.743543  \n3   11236.653077             0.990555  \n4      55.811022             2.300605  ",
            "text/html": "<div>\n<style scoped>\n    .dataframe tbody tr th:only-of-type {\n        vertical-align: middle;\n    }\n\n    .dataframe tbody tr th {\n        vertical-align: top;\n    }\n\n    .dataframe thead th {\n        text-align: right;\n    }\n</style>\n<table border=\"1\" class=\"dataframe\">\n  <thead>\n    <tr style=\"text-align: right;\">\n      <th></th>\n      <th>FIPS</th>\n      <th>Admin2</th>\n      <th>Province_State</th>\n      <th>Country_Region</th>\n      <th>Last_Update</th>\n      <th>Lat</th>\n      <th>Long_</th>\n      <th>Confirmed</th>\n      <th>Deaths</th>\n      <th>Recovered</th>\n      <th>Active</th>\n      <th>Combined_Key</th>\n      <th>Incident_Rate</th>\n      <th>Case_Fatality_Ratio</th>\n    </tr>\n  </thead>\n  <tbody>\n    <tr>\n      <th>0</th>\n      <td>NaN</td>\n      <td>NaN</td>\n      <td>NaN</td>\n      <td>Afghanistan</td>\n      <td>2021-01-13 05:22:15</td>\n      <td>33.93911</td>\n      <td>67.709953</td>\n      <td>53584</td>\n      <td>2301</td>\n      <td>44608</td>\n      <td>6675</td>\n      <td>Afghanistan</td>\n      <td>137.647787</td>\n      <td>4.294192</td>\n    </tr>\n    <tr>\n      <th>1</th>\n      <td>NaN</td>\n      <td>NaN</td>\n      <td>NaN</td>\n      <td>Albania</td>\n      <td>2021-01-13 05:22:15</td>\n      <td>41.15330</td>\n      <td>20.168300</td>\n      <td>64627</td>\n      <td>1252</td>\n      <td>38421</td>\n      <td>24954</td>\n      <td>Albania</td>\n      <td>2245.708527</td>\n      <td>1.937271</td>\n    </tr>\n    <tr>\n      <th>2</th>\n      <td>NaN</td>\n      <td>NaN</td>\n      <td>NaN</td>\n      <td>Algeria</td>\n      <td>2021-01-13 05:22:15</td>\n      <td>28.03390</td>\n      <td>1.659600</td>\n      <td>102641</td>\n      <td>2816</td>\n      <td>69608</td>\n      <td>30217</td>\n      <td>Algeria</td>\n      <td>234.067409</td>\n      <td>2.743543</td>\n    </tr>\n    <tr>\n      <th>3</th>\n      <td>NaN</td>\n      <td>NaN</td>\n      <td>NaN</td>\n      <td>Andorra</td>\n      <td>2021-01-13 05:22:15</td>\n      <td>42.50630</td>\n      <td>1.521800</td>\n      <td>8682</td>\n      <td>86</td>\n      <td>7930</td>\n      <td>666</td>\n      <td>Andorra</td>\n      <td>11236.653077</td>\n      <td>0.990555</td>\n    </tr>\n    <tr>\n      <th>4</th>\n      <td>NaN</td>\n      <td>NaN</td>\n      <td>NaN</td>\n      <td>Angola</td>\n      <td>2021-01-13 05:22:15</td>\n      <td>-11.20270</td>\n      <td>17.873900</td>\n      <td>18343</td>\n      <td>422</td>\n      <td>15512</td>\n      <td>2409</td>\n      <td>Angola</td>\n      <td>55.811022</td>\n      <td>2.300605</td>\n    </tr>\n  </tbody>\n</table>\n</div>"
          },
          "metadata": {}
        }
      ]
    },
    {
      "cell_type": "markdown",
      "source": [
        "Portanto, precisaremos iterar dentro de um intervalo de tempo definido para extraí-lo."
      ],
      "metadata": {
        "id": "wxuvaW6QDeKI"
      }
    },
    {
      "cell_type": "code",
      "source": [
        "def date_range(start_date: datetime, end_date: datetime) -> Iterator[datetime]:\n",
        "  date_range_days: int = (end_date - start_date).days\n",
        "  for lag in range(date_range_days):\n",
        "    yield start_date + timedelta(lag)"
      ],
      "metadata": {
        "id": "P-kDtLIsDk-j"
      },
      "execution_count": null,
      "outputs": []
    },
    {
      "cell_type": "code",
      "source": [
        "start_date = datetime(2021,  1,  1)\n",
        "end_date   = datetime(2021, 12, 31)"
      ],
      "metadata": {
        "id": "PwyAiAsCIAex"
      },
      "execution_count": null,
      "outputs": []
    },
    {
      "cell_type": "markdown",
      "source": [
        "De maneira iterativa, vamos selecionar as colunas de interesse e as linhas referentes ao Brasil."
      ],
      "metadata": {
        "id": "7aQcyhAiIDTt"
      }
    },
    {
      "cell_type": "code",
      "source": [
        "cases = None\n",
        "cases_is_empty = True\n",
        "\n",
        "for date in date_range(start_date=start_date, end_date=end_date):\n",
        "\n",
        "  date_str = date.strftime('%m-%d-%Y')\n",
        "  data_source_url = f'https://raw.githubusercontent.com/CSSEGISandData/COVID-19/master/csse_covid_19_data/csse_covid_19_daily_reports/{date_str}.csv'\n",
        "\n",
        "  case = pd.read_csv(data_source_url, sep=',')\n",
        "\n",
        "  case = case.drop(['FIPS', 'Admin2', 'Last_Update', 'Lat', 'Long_', 'Recovered', 'Active', 'Combined_Key', 'Case_Fatality_Ratio'], axis=1)\n",
        "  case = case.query('Country_Region == \"Brazil\"').reset_index(drop=True)\n",
        "  case['Date'] = pd.to_datetime(date.strftime('%Y-%m-%d'))\n",
        "\n",
        "  if cases_is_empty:\n",
        "    cases = case\n",
        "    cases_is_empty = False\n",
        "  else:\n",
        "    cases = cases.append(case, ignore_index=True)"
      ],
      "metadata": {
        "id": "oSDnKv4oIFqx"
      },
      "execution_count": null,
      "outputs": []
    },
    {
      "cell_type": "code",
      "source": [
        "cases.query('Province_State == \"Sao Paulo\"').head()"
      ],
      "metadata": {
        "id": "piNeCVGWJYGb"
      },
      "execution_count": null,
      "outputs": []
    },
    {
      "cell_type": "markdown",
      "source": [
        "### **Transformação**"
      ],
      "metadata": {
        "id": "98hexQTyJS9I"
      }
    },
    {
      "cell_type": "markdown",
      "source": [
        "Vamos manipular os dados para o dashboard. O foco é em garantir uma boa granularidade e qualidade da base de dados."
      ],
      "metadata": {
        "id": "JsAJCzKdJihA"
      }
    },
    {
      "cell_type": "code",
      "source": [
        "cases.head()"
      ],
      "metadata": {
        "id": "SdoF40qBJ_US"
      },
      "execution_count": null,
      "outputs": []
    },
    {
      "cell_type": "code",
      "source": [
        "cases.shape"
      ],
      "metadata": {
        "id": "-dNwBgBfKA7E"
      },
      "execution_count": null,
      "outputs": []
    },
    {
      "cell_type": "code",
      "source": [
        "cases.info()"
      ],
      "metadata": {
        "id": "Sa8l2TCKKCck"
      },
      "execution_count": null,
      "outputs": []
    },
    {
      "cell_type": "markdown",
      "source": [
        "Começamos com o nome das colunas."
      ],
      "metadata": {
        "id": "8X2R9NYjKInw"
      }
    },
    {
      "cell_type": "code",
      "source": [
        "cases = cases.rename(\n",
        "  columns={\n",
        "    'Province_State': 'state',\n",
        "    'Country_Region': 'country'\n",
        "  }\n",
        ")\n",
        "\n",
        "for col in cases.columns:\n",
        "  cases = cases.rename(columns={col: col.lower()})"
      ],
      "metadata": {
        "id": "DXU4Ee0QJS9Q"
      },
      "execution_count": null,
      "outputs": []
    },
    {
      "cell_type": "code",
      "source": [
        "states_map = {\n",
        "    'Amapa': 'Amapá',\n",
        "    'Ceara': 'Ceará',\n",
        "    'Espirito Santo': 'Espírito Santo',\n",
        "    'Goias': 'Goiás',\n",
        "    'Para': 'Pará',\n",
        "    'Paraiba': 'Paraíba',\n",
        "    'Parana': 'Paraná',\n",
        "    'Piaui': 'Piauí',\n",
        "    'Rondonia': 'Rondônia',\n",
        "    'Sao Paulo': 'São Paulo'\n",
        "}\n",
        "\n",
        "cases['state'] = cases['state'].apply(lambda state: states_map.get(state) if state in states_map.keys() else state)"
      ],
      "metadata": {
        "id": "sK93Btv0KTLs"
      },
      "execution_count": null,
      "outputs": []
    },
    {
      "cell_type": "markdown",
      "source": [
        "Vamos então computar novas colunas para enriquecer a base de dados."
      ],
      "metadata": {
        "id": "gNAYKaVqKWlP"
      }
    },
    {
      "cell_type": "markdown",
      "source": [
        " - Chaves temporais:"
      ],
      "metadata": {
        "id": "FOTn10ueKZPX"
      }
    },
    {
      "cell_type": "code",
      "source": [
        "cases['month'] = cases['date'].apply(lambda date: date.strftime('%Y-%m'))\n",
        "cases['year']  = cases['date'].apply(lambda date: date.strftime('%Y'))"
      ],
      "metadata": {
        "id": "STXVEwe1KbIT"
      },
      "execution_count": null,
      "outputs": []
    },
    {
      "cell_type": "markdown",
      "source": [
        " - População estimada do estado:"
      ],
      "metadata": {
        "id": "enLi4k5JKeHr"
      }
    },
    {
      "cell_type": "code",
      "source": [
        "cases['population'] = round(100000 * (cases['confirmed'] / cases['incident_rate']))\n",
        "cases = cases.drop('incident_rate', axis=1)"
      ],
      "metadata": {
        "id": "OE1bHiUcKf7d"
      },
      "execution_count": null,
      "outputs": []
    },
    {
      "cell_type": "markdown",
      "source": [
        " - Número, média móvel (7 dias) e estabilidade (14 dias) de casos e mortes por estado:"
      ],
      "metadata": {
        "id": "DNTfUNzFKiUR"
      }
    },
    {
      "cell_type": "markdown",
      "source": [
        "| 1 | 2 | 3 | 4 | 5 | 6 | <font color='red'>7</font> | <font color='green'>8</font> | 9 | 10 | 11 | 12 | 13 | <font color='blue'>14<font color='red'> | 15 | 16 | 17 | 18 | 19 | 20 | 21 |\n",
        "| - | - | - | - | - | - | - | - | - | -- | -- | -- | -- | -- | -- | -- | -- | -- | -- | -- | -- |\n",
        "| <font color='red'>D-6</font> | <font color='red'>D-5</font> | <font color='red'>D-4</font> | <font color='red'>D-3</font> | <font color='red'>D-2</font> | <font color='red'>D-1</font> | <font color='red'>D0</font> | | | | | | | | | | | | | | |\n",
        "| D-7 | <font color='green'>D-6</font> | <font color='green'>D-5</font> | <font color='green'>D-4</font> | <font color='green'>D-3</font> | <font color='green'>D-2</font> | <font color='green'>D-1</font> | <font color='green'>D0</font> | | | | | | | | | | | | | |\n",
        "| D-13 | D-12 | D-11 | D-10 | D-9 | D-8 | D-7 | <font color='blue'>D-6</font> | <font color='blue'>D-5</font> | <font color='blue'>D-4</font> | <font color='blue'>D-3</font> | <font color='blue'>D-2</font> | <font color='blue'>D-1</font> | <font color='blue'>D0</font> | | | | | | | |"
      ],
      "metadata": {
        "id": "sJQ9qg4xKmi-"
      }
    },
    {
      "cell_type": "code",
      "source": [
        "cases_ = None\n",
        "cases_is_empty = True\n",
        "\n",
        "def get_trend(rate: float) -> str:\n",
        "\n",
        "  if np.isnan(rate):\n",
        "    return np.NaN\n",
        "\n",
        "  if rate < 0.75:\n",
        "    status = 'downward'\n",
        "  elif rate > 1.15:\n",
        "    status = 'upward'\n",
        "  else:\n",
        "    status = 'stable'\n",
        "\n",
        "  return status\n",
        "\n",
        "\n",
        "for state in cases['state'].drop_duplicates():\n",
        "\n",
        "  cases_per_state = cases.query(f'state == \"{state}\"').reset_index(drop=True)\n",
        "  cases_per_state = cases_per_state.sort_values(by=['date'])\n",
        "\n",
        "  cases_per_state['confirmed_1d'] = cases_per_state['confirmed'].diff(periods=1)\n",
        "  cases_per_state['confirmed_moving_avg_7d'] = np.ceil(cases_per_state['confirmed_1d'].rolling(window=7).mean())\n",
        "  cases_per_state['confirmed_moving_avg_7d_rate_14d'] = cases_per_state['confirmed_moving_avg_7d']/cases_per_state['confirmed_moving_avg_7d'].shift(periods=14)\n",
        "  cases_per_state['confirmed_trend'] = cases_per_state['confirmed_moving_avg_7d_rate_14d'].apply(get_trend)\n",
        "\n",
        "  cases_per_state['deaths_1d'] = cases_per_state['deaths'].diff(periods=1)\n",
        "  cases_per_state['deaths_moving_avg_7d'] = np.ceil(cases_per_state['deaths_1d'].rolling(window=7).mean())\n",
        "  cases_per_state['deaths_moving_avg_7d_rate_14d'] = cases_per_state['deaths_moving_avg_7d']/cases_per_state['deaths_moving_avg_7d'].shift(periods=14)\n",
        "  cases_per_state['deaths_trend'] = cases_per_state['deaths_moving_avg_7d_rate_14d'].apply(get_trend)\n",
        "\n",
        "  if cases_is_empty:\n",
        "    cases_ = cases_per_state\n",
        "    cases_is_empty = False\n",
        "  else:\n",
        "    cases_ = cases_.append(cases_per_state, ignore_index=True)\n",
        "\n",
        "cases = cases_\n",
        "cases_ = None"
      ],
      "metadata": {
        "id": "Ohsm_mAxKtH7"
      },
      "execution_count": null,
      "outputs": []
    },
    {
      "cell_type": "markdown",
      "source": [
        "Garantir o tipo do dado é fundamental para consistência da base de dados. Vamos fazer o *type casting* das colunas."
      ],
      "metadata": {
        "id": "AlTe31pPMSX-"
      }
    },
    {
      "cell_type": "code",
      "source": [
        "cases['population'] = cases['population'].astype('Int64')\n",
        "cases['confirmed_1d'] = cases['confirmed_1d'].astype('Int64')\n",
        "cases['confirmed_moving_avg_7d'] = cases['confirmed_moving_avg_7d'].astype('Int64')\n",
        "cases['deaths_1d'] = cases['deaths_1d'].astype('Int64')\n",
        "cases['deaths_moving_avg_7d'] = cases['deaths_moving_avg_7d'].astype('Int64')"
      ],
      "metadata": {
        "id": "ooF42kGgMUzB"
      },
      "execution_count": null,
      "outputs": []
    },
    {
      "cell_type": "markdown",
      "source": [
        "Por fim, vamos reorganizar as colunas e conferir o resultado final."
      ],
      "metadata": {
        "id": "unpxYDHUMYRU"
      }
    },
    {
      "cell_type": "code",
      "source": [
        "cases = cases[['date', 'country', 'state', 'population', 'confirmed', 'confirmed_1d', 'confirmed_moving_avg_7d', 'confirmed_moving_avg_7d_rate_14d', 'confirmed_trend', 'deaths', 'deaths_1d', 'deaths_moving_avg_7d', 'deaths_moving_avg_7d_rate_14d', 'deaths_trend', 'month', 'year']]"
      ],
      "metadata": {
        "id": "qn9YQQtCMboW"
      },
      "execution_count": null,
      "outputs": []
    },
    {
      "cell_type": "code",
      "source": [
        "cases.head(n=25)"
      ],
      "metadata": {
        "id": "9G1OcO9YMeXU"
      },
      "execution_count": null,
      "outputs": []
    },
    {
      "cell_type": "markdown",
      "source": [
        "### **Carregamento**"
      ],
      "metadata": {
        "id": "KSgjP--1JS9R"
      }
    },
    {
      "cell_type": "markdown",
      "source": [
        "Com os dados manipulados, vamos persisti-lo em disco, fazer o seu download e carrega-lo no Google Data Studio."
      ],
      "metadata": {
        "id": "Erefk-IhNOfq"
      }
    },
    {
      "cell_type": "code",
      "source": [
        "cases.to_csv('./covid-cases.csv', sep=',', index=False)"
      ],
      "metadata": {
        "id": "1FQzfLFgNQ-G"
      },
      "execution_count": null,
      "outputs": []
    },
    {
      "cell_type": "markdown",
      "source": [
        "### **Extração, transformação e carregamento dos dados de vacinação**"
      ],
      "metadata": {
        "id": "Y5aVCip9NnbN"
      }
    },
    {
      "cell_type": "code",
      "source": [
        "vaccines = pd.read_csv('https://covid.ourworldindata.org/data/owid-covid-data.csv', sep=',', parse_dates=[3], infer_datetime_format=True)"
      ],
      "metadata": {
        "id": "Jlj3ACWCJS9R"
      },
      "execution_count": null,
      "outputs": []
    },
    {
      "cell_type": "code",
      "source": [
        "vaccines.head()"
      ],
      "metadata": {
        "id": "fMRe1le1Nxzr"
      },
      "execution_count": null,
      "outputs": []
    },
    {
      "cell_type": "markdown",
      "source": [
        "Vamos selecionar as colunas de interesse e as linhas referentes ao Brasil."
      ],
      "metadata": {
        "id": "G6mm9Pm1N1Qt"
      }
    },
    {
      "cell_type": "code",
      "source": [
        "vaccines = vaccines.query('location == \"Brazil\"').reset_index(drop=True)\n",
        "vaccines = vaccines[['location', 'population', 'total_vaccinations', 'people_vaccinated', 'people_fully_vaccinated', 'total_boosters', 'date']]"
      ],
      "metadata": {
        "id": "uf4NxllhN3FM"
      },
      "execution_count": null,
      "outputs": []
    },
    {
      "cell_type": "code",
      "source": [
        "vaccines.head()"
      ],
      "metadata": {
        "id": "V-XCyGjtN549"
      },
      "execution_count": null,
      "outputs": []
    },
    {
      "cell_type": "markdown",
      "source": [
        "Vamos manipular os dados para o dashboard. O foco é em garantir uma boa granularidade e qualidade da base de dados."
      ],
      "metadata": {
        "id": "rPg0zZX-N-0M"
      }
    },
    {
      "cell_type": "code",
      "source": [
        "vaccines.head()"
      ],
      "metadata": {
        "id": "JrXIOrgdOCUY"
      },
      "execution_count": null,
      "outputs": []
    },
    {
      "cell_type": "code",
      "source": [
        "vaccines.shape"
      ],
      "metadata": {
        "id": "MrW-Wk1oODmw"
      },
      "execution_count": null,
      "outputs": []
    },
    {
      "cell_type": "code",
      "source": [
        "vaccines.info()"
      ],
      "metadata": {
        "id": "GIkBEGalOE3u"
      },
      "execution_count": null,
      "outputs": []
    },
    {
      "cell_type": "markdown",
      "source": [
        "Vamos começar tratando os dados faltantes, a estratégia será a de preencher os buracos com o valor anterior válido mais próximo."
      ],
      "metadata": {
        "id": "NIBCrm-bOHXW"
      }
    },
    {
      "cell_type": "code",
      "source": [
        "vaccines = vaccines.fillna(method='ffill')"
      ],
      "metadata": {
        "id": "hoZ6mxvVOJKb"
      },
      "execution_count": null,
      "outputs": []
    },
    {
      "cell_type": "markdown",
      "source": [
        "\n",
        "Vamos também filtrar a base de dados de acordo com a coluna date para garantir que ambas as bases de dados tratam do mesmo período de tempo."
      ],
      "metadata": {
        "id": "j0bzj44GOKnm"
      }
    },
    {
      "cell_type": "code",
      "source": [
        "vaccines = vaccines[(vaccines['date'] >= '2021-01-01') & (vaccines['date'] <= '2021-12-31')].reset_index(drop=True)"
      ],
      "metadata": {
        "id": "vDlmibOoOMXK"
      },
      "execution_count": null,
      "outputs": []
    },
    {
      "cell_type": "markdown",
      "source": [
        "Agora, vamos alterar o nome das colunas."
      ],
      "metadata": {
        "id": "eGfaEElVOOo1"
      }
    },
    {
      "cell_type": "code",
      "source": [
        "vaccines = vaccines.rename(\n",
        "  columns={\n",
        "    'location': 'country',\n",
        "    'total_vaccinations': 'total',\n",
        "    'people_vaccinated': 'one_shot',\n",
        "    'people_fully_vaccinated': 'two_shots',\n",
        "    'total_boosters': 'three_shots',\n",
        "  }\n",
        ")"
      ],
      "metadata": {
        "id": "gST2MaUSOQXz"
      },
      "execution_count": null,
      "outputs": []
    },
    {
      "cell_type": "markdown",
      "source": [
        "Vamos então computar novas colunas para enriquecer a base de dados."
      ],
      "metadata": {
        "id": "UZY3EwV8OSxd"
      }
    },
    {
      "cell_type": "markdown",
      "source": [
        " - Chaves temporais:"
      ],
      "metadata": {
        "id": "AHo4QWyyOVB9"
      }
    },
    {
      "cell_type": "code",
      "source": [
        "vaccines['month'] = vaccines['date'].apply(lambda date: date.strftime('%Y-%m'))\n",
        "vaccines['year']  = vaccines['date'].apply(lambda date: date.strftime('%Y'))"
      ],
      "metadata": {
        "id": "wV3VXYtLOW_t"
      },
      "execution_count": null,
      "outputs": []
    },
    {
      "cell_type": "markdown",
      "source": [
        " - Dados relativos:"
      ],
      "metadata": {
        "id": "eoMnv2y3OYjy"
      }
    },
    {
      "cell_type": "code",
      "source": [
        "vaccines['one_shot_perc'] = round(vaccines['one_shot'] / vaccines['population'], 4)\n",
        "vaccines['two_shots_perc'] = round(vaccines['two_shots'] / vaccines['population'], 4)\n",
        "vaccines['three_shots_perc'] = round(vaccines['three_shots'] / vaccines['population'], 4)"
      ],
      "metadata": {
        "id": "6hFs3lmdOanK"
      },
      "execution_count": null,
      "outputs": []
    },
    {
      "cell_type": "markdown",
      "source": [
        "Garantir o tipo do dado é fundamental para consistência da base de dados. Vamos fazer o *type casting* das colunas."
      ],
      "metadata": {
        "id": "jk5ZvanoOctd"
      }
    },
    {
      "cell_type": "code",
      "source": [
        "vaccines['population'] = vaccines['population'].astype('Int64')\n",
        "vaccines['total'] = vaccines['total'].astype('Int64')\n",
        "vaccines['one_shot'] = vaccines['one_shot'].astype('Int64')\n",
        "vaccines['two_shots'] = vaccines['two_shots'].astype('Int64')\n",
        "vaccines['three_shots'] = vaccines['three_shots'].astype('Int64')"
      ],
      "metadata": {
        "id": "i7QbRMHJOemg"
      },
      "execution_count": null,
      "outputs": []
    },
    {
      "cell_type": "markdown",
      "source": [
        "Por fim, vamos reorganizar as colunas e conferir o resultado final."
      ],
      "metadata": {
        "id": "pQKeR1qYOglx"
      }
    },
    {
      "cell_type": "code",
      "source": [
        "vaccines = vaccines[['date', 'country', 'population', 'total', 'one_shot', 'one_shot_perc', 'two_shots', 'two_shots_perc', 'three_shots', 'three_shots_perc', 'month', 'year']]"
      ],
      "metadata": {
        "id": "M-LcPK9jOjDZ"
      },
      "execution_count": null,
      "outputs": []
    },
    {
      "cell_type": "code",
      "source": [
        "vaccines.tail()"
      ],
      "metadata": {
        "id": "nEme0kBEOkZT"
      },
      "execution_count": null,
      "outputs": []
    },
    {
      "cell_type": "markdown",
      "source": [
        "Com os dados manipulados, vamos persisti-lo em disco, fazer o seu download e carrega-lo no Google Data Studio."
      ],
      "metadata": {
        "id": "fuaEz0KyOnB1"
      }
    },
    {
      "cell_type": "code",
      "source": [
        "vaccines.to_csv('./covid-vaccines.csv', sep=',', index=False)"
      ],
      "metadata": {
        "id": "xoXCy8G7Ooiv"
      },
      "execution_count": null,
      "outputs": []
    },
    {
      "cell_type": "markdown",
      "source": [
        "## **3\\. Exploração Interativa de Dados**"
      ],
      "metadata": {
        "id": "nQijwi1nGOWn"
      }
    },
    {
      "cell_type": "markdown",
      "source": [
        " - **Dashboard**:\n",
        "  - Google Data Studio [Covid Dashboard](https://lookerstudio.google.com/reporting/6faa99af-b8ce-4d03-aa84-d4cb6029f21f)."
      ],
      "metadata": {
        "id": "CzcrfHtJGuSw"
      }
    },
    {
      "cell_type": "markdown",
      "source": [
        "### **KPIs**"
      ],
      "metadata": {
        "id": "KWIR-xdzGWFZ"
      }
    },
    {
      "cell_type": "markdown",
      "source": [
        "O dashboard de dados contem os seguintes indicadores chaves de desempenho (*key performance indicator* ou KPI) consolidados:"
      ],
      "metadata": {
        "id": "7Xp2om5YGZ4e"
      }
    },
    {
      "cell_type": "markdown",
      "source": [
        "1. Casos e mortes nas 24 horas;\n",
        "1. Média móvel (7 dias) de casos e mortes;\n",
        "1. Tendência de casos e mortes;\n",
        "1. Proporção de vacinados com 1ª, 2ª e 3ª doses."
      ],
      "metadata": {
        "id": "1uMlG7QpGb1f"
      }
    },
    {
      "cell_type": "markdown",
      "source": [
        "## **EDA**"
      ],
      "metadata": {
        "id": "9WbGYjsMGjur"
      }
    },
    {
      "cell_type": "markdown",
      "source": [
        "O dashboard de dados contem os seguintes gráficos para a análise exploratória de dados (*exploratory data analysis*\n",
        "ou EDA) interativa:"
      ],
      "metadata": {
        "id": "pbEe0QjBGnl8"
      }
    },
    {
      "cell_type": "markdown",
      "source": [
        "1. Distribuição do números de casos e mortes ao longo do tempo;\n",
        "1. Distribuição da média móvel (7 dias) do números de casos e mortes ao longo do tempo;\n",
        "1. Distribuição geográfica dos casos por estado por dia."
      ],
      "metadata": {
        "id": "BpZadw1QGlyw"
      }
    }
  ]
}